{
 "cells": [
  {
   "cell_type": "markdown",
   "metadata": {},
   "source": [
    "## ML Model Development"
   ]
  },
  {
   "cell_type": "code",
   "execution_count": 1,
   "metadata": {},
   "outputs": [
    {
     "name": "stderr",
     "output_type": "stream",
     "text": [
      "C:\\Users\\cmgui\\AppData\\Local\\Temp\\ipykernel_17432\\3445032566.py:53: DeprecationWarning: `import kerastuner` is deprecated, please use `import keras_tuner`.\n",
      "  from kerastuner.tuners import RandomSearch\n"
     ]
    }
   ],
   "source": [
    "import pandas as pd\n",
    "import string\n",
    "import spacy\n",
    "import nltk\n",
    "import matplotlib.pyplot as plt\n",
    "import seaborn as sns\n",
    "import tensorflow as tf\n",
    "import numpy as np\n",
    "import warnings\n",
    "import pickle\n",
    "import os\n",
    "\n",
    "# General\n",
    "\n",
    "from structs import BasePreProcessorStep, PreProcessor\n",
    "from sklearn.model_selection import train_test_split\n",
    "from sklearn.feature_extraction.text import TfidfVectorizer\n",
    "from sklearn.metrics import accuracy_score, precision_score, recall_score, f1_score\n",
    "from sklearn.metrics import confusion_matrix\n",
    "from sklearn.pipeline import Pipeline\n",
    "from sklearn.preprocessing import StandardScaler, OneHotEncoder, MinMaxScaler\n",
    "from sklearn.impute import SimpleImputer\n",
    "from sklearn.compose import ColumnTransformer\n",
    "from sklearn.preprocessing import LabelEncoder\n",
    "from sklearn.base import BaseEstimator, TransformerMixin\n",
    "from sklearn.model_selection import cross_val_score, KFold\n",
    "from sklearn.exceptions import ConvergenceWarning, UndefinedMetricWarning\n",
    "from sklearn.metrics import make_scorer\n",
    "from sklearn.model_selection import ParameterGrid\n",
    "from sklearn.neighbors import LocalOutlierFactor\n",
    "\n",
    "# NLP\n",
    "\n",
    "from nltk.tokenize import word_tokenize\n",
    "from nltk.corpus import stopwords\n",
    "from nltk.stem import PorterStemmer, WordNetLemmatizer\n",
    "\n",
    "# ML\n",
    "\n",
    "from sklearn.linear_model import LogisticRegression\n",
    "from sklearn.ensemble import RandomForestClassifier\n",
    "from catboost import CatBoostClassifier\n",
    "from sklearn.svm import SVC\n",
    "from sklearn.linear_model import SGDClassifier\n",
    "\n",
    "# DL\n",
    "\n",
    "from tensorflow.keras.models import Sequential\n",
    "from tensorflow.keras.layers import Dense, Dropout\n",
    "from keras.callbacks import EarlyStopping\n",
    "from tensorflow.keras import regularizers\n",
    "from tensorflow.keras.models import load_model\n",
    "from kerastuner.tuners import RandomSearch\n",
    "\n",
    "\n",
    "warnings.filterwarnings(\"ignore\", category=ConvergenceWarning)\n",
    "warnings.filterwarnings(\"ignore\", category=UndefinedMetricWarning)\n",
    "\n",
    "DATA_PATH = \"../data/\"\n",
    "MODEL_PATH = '../models/'\n",
    "NLTK_PATH = DATA_PATH + '/nltk_data/'"
   ]
  },
  {
   "cell_type": "code",
   "execution_count": 2,
   "metadata": {},
   "outputs": [
    {
     "name": "stderr",
     "output_type": "stream",
     "text": [
      "[nltk_data] Downloading package punkt to ../data//nltk_data/...\n",
      "[nltk_data]   Package punkt is already up-to-date!\n",
      "[nltk_data] Downloading package stopwords to ../data//nltk_data/...\n",
      "[nltk_data]   Package stopwords is already up-to-date!\n",
      "[nltk_data] Downloading package wordnet to ../data//nltk_data/...\n",
      "[nltk_data]   Package wordnet is already up-to-date!\n"
     ]
    }
   ],
   "source": [
    "# download nltk requirements\n",
    "nltk.download('punkt', download_dir=NLTK_PATH)\n",
    "nltk.download('stopwords', download_dir=NLTK_PATH)\n",
    "nltk.download('wordnet', download_dir=NLTK_PATH)\n",
    "\n",
    "# load spacy model\n",
    "nlp = spacy.load('en_core_web_sm')"
   ]
  },
  {
   "cell_type": "code",
   "execution_count": 3,
   "metadata": {},
   "outputs": [],
   "source": [
    "def load_dataframe_indexes():\n",
    "    with open(DATA_PATH + \"indexes.txt\", \"r\") as f:\n",
    "        indexes = [int(index.strip()) for index in f.readlines()]\n",
    "        return indexes\n",
    "    \n",
    "def execute_preprocessor(steps, df, numerical_cols=[], categorical_cols=[]):\n",
    "    process = PreProcessor(steps, numerical_cols, categorical_cols)\n",
    "    process.run(df) # apply preprocess pipeline on df\n",
    "\n",
    "def save_model(model, name, score, is_tf=False):\n",
    "    if not is_tf:\n",
    "        with open(\n",
    "            MODEL_PATH + F'{name}_{score}.pkl', \n",
    "            'wb'\n",
    "        ) as f:\n",
    "            pickle.dump(model, f)\n",
    "    else:\n",
    "        tf.keras.models.save_model(\n",
    "            model, \n",
    "            MODEL_PATH + F'{name}_{score}.keras', \n",
    "            overwrite=True\n",
    "        )"
   ]
  },
  {
   "cell_type": "code",
   "execution_count": 4,
   "metadata": {},
   "outputs": [
    {
     "data": {
      "text/html": [
       "<div>\n",
       "<style scoped>\n",
       "    .dataframe tbody tr th:only-of-type {\n",
       "        vertical-align: middle;\n",
       "    }\n",
       "\n",
       "    .dataframe tbody tr th {\n",
       "        vertical-align: top;\n",
       "    }\n",
       "\n",
       "    .dataframe thead th {\n",
       "        text-align: right;\n",
       "    }\n",
       "</style>\n",
       "<table border=\"1\" class=\"dataframe\">\n",
       "  <thead>\n",
       "    <tr style=\"text-align: right;\">\n",
       "      <th></th>\n",
       "      <th>ID</th>\n",
       "      <th>SRC_TITLE_ID</th>\n",
       "      <th>SRC_TITLE_NM</th>\n",
       "      <th>TITLE_TYPE</th>\n",
       "      <th>TITLE_YR</th>\n",
       "      <th>RELEASE_DT</th>\n",
       "      <th>RUN_TIME</th>\n",
       "      <th>PLOT_OUTLINE</th>\n",
       "      <th>PLOT_MEDIUM</th>\n",
       "      <th>PLOT_SUMMARY</th>\n",
       "      <th>RATING_AVG</th>\n",
       "      <th>NO_OF_VOTES</th>\n",
       "      <th>BUDGET_AMT</th>\n",
       "      <th>SRC_GENRE</th>\n",
       "    </tr>\n",
       "  </thead>\n",
       "  <tbody>\n",
       "    <tr>\n",
       "      <th>0</th>\n",
       "      <td>1</td>\n",
       "      <td>tt7831076</td>\n",
       "      <td>Yes, Sir! 7</td>\n",
       "      <td>movie</td>\n",
       "      <td>2016</td>\n",
       "      <td>2016-09-02</td>\n",
       "      <td>111.0</td>\n",
       "      <td>NaN</td>\n",
       "      <td>From 1988 to 2000, Taiwan released six Yes, Si...</td>\n",
       "      <td>From 1988 to 2000, Taiwan released six Yes, Si...</td>\n",
       "      <td>1.4</td>\n",
       "      <td>127</td>\n",
       "      <td>NaN</td>\n",
       "      <td>Comedy</td>\n",
       "    </tr>\n",
       "    <tr>\n",
       "      <th>1</th>\n",
       "      <td>2</td>\n",
       "      <td>tt14746344</td>\n",
       "      <td>ReSet</td>\n",
       "      <td>movie</td>\n",
       "      <td>2022</td>\n",
       "      <td>2023-07-02</td>\n",
       "      <td>89.0</td>\n",
       "      <td>A college student passes out at a party and wa...</td>\n",
       "      <td>Danielle is your average college student getti...</td>\n",
       "      <td>A college student passes out at a party and wa...</td>\n",
       "      <td>4.3</td>\n",
       "      <td>71</td>\n",
       "      <td>35000.0</td>\n",
       "      <td>Horror</td>\n",
       "    </tr>\n",
       "    <tr>\n",
       "      <th>2</th>\n",
       "      <td>3</td>\n",
       "      <td>tt15670842</td>\n",
       "      <td>The Sword</td>\n",
       "      <td>movie</td>\n",
       "      <td>2021</td>\n",
       "      <td>2021-10-18</td>\n",
       "      <td>106.0</td>\n",
       "      <td>In the ancient times, the Demon King, who was ...</td>\n",
       "      <td>NaN</td>\n",
       "      <td>In the ancient times, the Demon King, who was ...</td>\n",
       "      <td>4.7</td>\n",
       "      <td>9</td>\n",
       "      <td>NaN</td>\n",
       "      <td>Action</td>\n",
       "    </tr>\n",
       "  </tbody>\n",
       "</table>\n",
       "</div>"
      ],
      "text/plain": [
       "   ID SRC_TITLE_ID SRC_TITLE_NM TITLE_TYPE  TITLE_YR RELEASE_DT  RUN_TIME  \\\n",
       "0   1    tt7831076  Yes, Sir! 7      movie      2016 2016-09-02     111.0   \n",
       "1   2   tt14746344        ReSet      movie      2022 2023-07-02      89.0   \n",
       "2   3   tt15670842    The Sword      movie      2021 2021-10-18     106.0   \n",
       "\n",
       "                                        PLOT_OUTLINE  \\\n",
       "0                                                NaN   \n",
       "1  A college student passes out at a party and wa...   \n",
       "2  In the ancient times, the Demon King, who was ...   \n",
       "\n",
       "                                         PLOT_MEDIUM  \\\n",
       "0  From 1988 to 2000, Taiwan released six Yes, Si...   \n",
       "1  Danielle is your average college student getti...   \n",
       "2                                                NaN   \n",
       "\n",
       "                                        PLOT_SUMMARY  RATING_AVG  NO_OF_VOTES  \\\n",
       "0  From 1988 to 2000, Taiwan released six Yes, Si...         1.4          127   \n",
       "1  A college student passes out at a party and wa...         4.3           71   \n",
       "2  In the ancient times, the Demon King, who was ...         4.7            9   \n",
       "\n",
       "   BUDGET_AMT SRC_GENRE  \n",
       "0         NaN    Comedy  \n",
       "1     35000.0    Horror  \n",
       "2         NaN    Action  "
      ]
     },
     "execution_count": 4,
     "metadata": {},
     "output_type": "execute_result"
    }
   ],
   "source": [
    "indexes = load_dataframe_indexes()\n",
    "\n",
    "tests = pd.read_excel(DATA_PATH + \"test_set.xlsx\")\n",
    "df = pd.read_excel(DATA_PATH + \"train_set.xlsx\").iloc[indexes].reset_index(drop=True)\n",
    "df.head(3)"
   ]
  },
  {
   "cell_type": "markdown",
   "metadata": {},
   "source": [
    "### Base Pre-processing"
   ]
  },
  {
   "cell_type": "code",
   "execution_count": 5,
   "metadata": {},
   "outputs": [],
   "source": [
    "class RemoveColumns(BasePreProcessorStep):\n",
    "    def __init__(self, columns):\n",
    "        self.columns = columns\n",
    "        pass\n",
    "\n",
    "    def fit_transform(self, df, numerical_cols, categorical_cols):\n",
    "        df.drop(columns=self.columns, inplace=True)\n",
    "        return df"
   ]
  },
  {
   "cell_type": "code",
   "execution_count": 6,
   "metadata": {},
   "outputs": [],
   "source": [
    "class FillSummary(BasePreProcessorStep):\n",
    "    \"\"\"\n",
    "    This pre-processing step is responsable for filling the SUMMARY\n",
    "    column with the values of PLOT_MEDIUM, PLOT_OUTLINE, in case\n",
    "    it's null.\n",
    "    \"\"\"\n",
    "    def __init__(self):\n",
    "        pass\n",
    "\n",
    "    def fit_transform(self, df, numerical_cols, categorical_cols):\n",
    "        df.loc[df['PLOT_SUMMARY'].isnull(), 'PLOT_SUMMARY'] = df['PLOT_MEDIUM']\n",
    "        df.loc[df['PLOT_SUMMARY'].isnull(), 'PLOT_SUMMARY'] = df['PLOT_OUTLINE']\n",
    "        return df    "
   ]
  },
  {
   "cell_type": "code",
   "execution_count": 7,
   "metadata": {},
   "outputs": [],
   "source": [
    "class NaturalLanguageProcessing(BasePreProcessorStep):\n",
    "    def __init__(self, apply_stemming=False, apply_lemmatization=True):\n",
    "        self.apply_stemming = apply_stemming\n",
    "        self.apply_lemmatization = apply_lemmatization\n",
    "        self.tfidf_vectorizer = None\n",
    "\n",
    "    def TF_IDF_Vectorization(self, X, max_features=5000):\n",
    "        tfidf_vectorizer = TfidfVectorizer(max_features=max_features)\n",
    "        X = tfidf_vectorizer.fit_transform(X).toarray()\n",
    "        self.tfidf_vectorizer = tfidf_vectorizer\n",
    "        return X\n",
    "    \n",
    "    def TF_IDF_Transform(self, X):\n",
    "        X = self.tfidf_vectorizer.transform(X).toarray()\n",
    "        return X\n",
    "    \n",
    "    # Tokenization\n",
    "    def tokenize_text(self, text):\n",
    "        return word_tokenize(text)\n",
    "    \n",
    "    # Remove stopwords\n",
    "    def remove_stopwords(self, tokens):\n",
    "        stop_words = set(stopwords.words('english'))\n",
    "        return [word for word in tokens if word.lower() not in stop_words]\n",
    "    \n",
    "    # Stemming\n",
    "    def stem_tokens(self, tokens):\n",
    "        porter = PorterStemmer()\n",
    "        return [porter.stem(word) for word in tokens]\n",
    "    \n",
    "    # Lemmatization\n",
    "    def lemmatize_tokens(self, tokens):\n",
    "        lemmatizer = WordNetLemmatizer()\n",
    "        return [lemmatizer.lemmatize(word) for word in tokens]\n",
    "    \n",
    "    # Remove Punctuation\n",
    "    def remove_punctuation(self, text):\n",
    "        return text.translate(str.maketrans('', '', string.punctuation))\n",
    "    \n",
    "    # Apply preprocessing pipeline to 'PLOT_SUMMARY' column\n",
    "    def preprocess_text(self, text):\n",
    "        text = self.remove_punctuation(text)\n",
    "        tokens = self.tokenize_text(text)\n",
    "        tokens = self.remove_stopwords(tokens)\n",
    "        if self.apply_stemming: tokens = self.stem_tokens(tokens)\n",
    "        if self.apply_lemmatization: tokens = self.lemmatize_tokens(tokens)\n",
    "        return ' '.join(tokens)\n",
    "    \n",
    "    def fit_transform(self, df, numerical_cols, categorical_cols):\n",
    "        df['PLOT_SUMMARY_CLEAN'] = df['PLOT_SUMMARY'].apply(self.preprocess_text) # apply preprocessing to the 'PLOT_SUMMARY' column\n",
    "        return df          "
   ]
  },
  {
   "cell_type": "code",
   "execution_count": 8,
   "metadata": {},
   "outputs": [],
   "source": [
    "label_classes = [np.ndarray]\n",
    "\n",
    "class TargetEncoder(BasePreProcessorStep):\n",
    "    \"\"\"\n",
    "    \"\"\"\n",
    "    def __init__(self, column):\n",
    "        self.column = column\n",
    "\n",
    "    def fit_transform(self, df, numerical_cols, categorical_cols):\n",
    "        # Preprocessing for target variable\n",
    "        encoder = LabelEncoder()\n",
    "        df[self.column + '_ENCODED'] = encoder.fit_transform(df[self.column])\n",
    "        label_classes[0] = encoder.classes_\n",
    "        return df"
   ]
  },
  {
   "cell_type": "code",
   "execution_count": 9,
   "metadata": {},
   "outputs": [],
   "source": [
    "steps = [\n",
    "    RemoveColumns([\"ID\", \"SRC_TITLE_ID\", \"TITLE_TYPE\"]),\n",
    "    FillSummary(),\n",
    "    NaturalLanguageProcessing(),\n",
    "    TargetEncoder('SRC_GENRE')\n",
    "]\n",
    "\n",
    "execute_preprocessor(steps, df)"
   ]
  },
  {
   "cell_type": "code",
   "execution_count": 10,
   "metadata": {},
   "outputs": [
    {
     "data": {
      "text/plain": [
       "0        1988 2000 Taiwan released six Yes Sir film exp...\n",
       "1        college student pass party wake bedroom Edgar ...\n",
       "2        ancient time Demon King born human grievance s...\n",
       "3        Haruko single mother unusual living arrangemen...\n",
       "4        Aqilla aspiration become astronaut grandfather...\n",
       "                               ...                        \n",
       "11913    Okka Roju Telugu movie starring Aaditya Reddy ...\n",
       "11914    7 friend got invited swimming pool engagement ...\n",
       "11915    Mr Toomey obsessively tear paper control child...\n",
       "11916    eyeopening documentary dealing cost prescribin...\n",
       "11917              story top model decides put weight love\n",
       "Name: PLOT_SUMMARY_CLEAN, Length: 11918, dtype: object"
      ]
     },
     "execution_count": 10,
     "metadata": {},
     "output_type": "execute_result"
    }
   ],
   "source": [
    "df.PLOT_SUMMARY_CLEAN"
   ]
  },
  {
   "cell_type": "code",
   "execution_count": 11,
   "metadata": {},
   "outputs": [
    {
     "data": {
      "text/plain": [
       "0         5\n",
       "1        12\n",
       "2         0\n",
       "3         8\n",
       "4         2\n",
       "         ..\n",
       "11913     8\n",
       "11914    12\n",
       "11915     3\n",
       "11916     7\n",
       "11917     5\n",
       "Name: SRC_GENRE_ENCODED, Length: 11918, dtype: int32"
      ]
     },
     "execution_count": 11,
     "metadata": {},
     "output_type": "execute_result"
    }
   ],
   "source": [
    "df.SRC_GENRE_ENCODED"
   ]
  },
  {
   "cell_type": "code",
   "execution_count": 12,
   "metadata": {},
   "outputs": [
    {
     "data": {
      "text/plain": [
       "array(['Action', 'Adult', 'Adventure', 'Animation', 'Biography', 'Comedy',\n",
       "       'Crime', 'Documentary', 'Drama', 'Family', 'Fantasy', 'History',\n",
       "       'Horror', 'Music', 'Musical', 'Mystery', 'Romance', 'Sci-Fi',\n",
       "       'Short', 'Sport', 'Thriller', 'War', 'Western'], dtype=object)"
      ]
     },
     "execution_count": 12,
     "metadata": {},
     "output_type": "execute_result"
    }
   ],
   "source": [
    "label_classes = label_classes[0]\n",
    "label_classes"
   ]
  },
  {
   "cell_type": "markdown",
   "metadata": {},
   "source": [
    "### Model Baseline\n",
    "\n",
    "(PLOT_SUMMARY only)"
   ]
  },
  {
   "cell_type": "code",
   "execution_count": 13,
   "metadata": {},
   "outputs": [
    {
     "name": "stdout",
     "output_type": "stream",
     "text": [
      "Accuracy: 0.5138422818791947\n",
      "Precision: 0.45908230915122733\n",
      "Recall: 0.5138422818791947\n",
      "F1: 0.468990983071026\n"
     ]
    }
   ],
   "source": [
    "X = df['PLOT_SUMMARY_CLEAN']\n",
    "y = df['SRC_GENRE_ENCODED']\n",
    "\n",
    "# X_train, X_test, y_train, y_test = train_test_split(X, y, test_size=0.2, random_state=42, stratify=df['SRC_GENRE'])\n",
    "# ValueError: The least populated class in y has only 1 member, \n",
    "# which is too few. The minimum number of groups for any \n",
    "# class cannot be less than 2.\n",
    "\n",
    "tf_idf = NaturalLanguageProcessing()\n",
    "\n",
    "X = tf_idf.TF_IDF_Vectorization(X)\n",
    "\n",
    "def evaluate_on_baseline_model(X):\n",
    "    X_train, X_test, y_train, y_test = train_test_split(X, y, test_size=0.2, random_state=42)\n",
    "\n",
    "    # logistic regression model\n",
    "    model = LogisticRegression(random_state=42)\n",
    "    model.fit(X_train, y_train)\n",
    "    y_pred = model.predict(X_test)\n",
    "\n",
    "    # Evaluate the model\n",
    "    accuracy = accuracy_score(y_test, y_pred)\n",
    "    precision = precision_score(y_test, y_pred, average='weighted')\n",
    "    recall = recall_score(y_test, y_pred, average='weighted')\n",
    "    f1 = f1_score(y_test, y_pred, average='weighted')\n",
    "\n",
    "    print(\"Accuracy:\", accuracy)\n",
    "    print(\"Precision:\", precision)\n",
    "    print(\"Recall:\", recall)\n",
    "    print(\"F1:\", f1)\n",
    "\n",
    "    return (\n",
    "        model, \n",
    "        X_train, \n",
    "        X_test, \n",
    "        y_train, \n",
    "        y_test, \n",
    "        y_pred\n",
    "    )\n",
    "\n",
    "(model, X_train, X_test, y_train, y_test, y_pred) = evaluate_on_baseline_model(X)\n"
   ]
  },
  {
   "cell_type": "markdown",
   "metadata": {},
   "source": [
    "<span style=\"color: lightblue; font-size: 14px;\">Notes:</span>\n",
    "\n",
    "- The baseline is classifying based only on Movie Summary (empirically considered the class with the greatest power for classification)\n",
    "- Acuracy is 51%, which is not bad, considering imbalanced dataset and the number of classes (21 classes)\n",
    "- Random probability would be 100% / 21 classes = ~5%\n",
    "- Couldn't stratify the train/test split, due the presence of only 1 member on a class"
   ]
  },
  {
   "cell_type": "markdown",
   "metadata": {},
   "source": [
    "**Error Analysis**"
   ]
  },
  {
   "cell_type": "code",
   "execution_count": 14,
   "metadata": {},
   "outputs": [
    {
     "data": {
      "image/png": "[encoded data removed]",
      "text/plain": [
       "<Figure size 800x600 with 2 Axes>"
      ]
     },
     "metadata": {},
     "output_type": "display_data"
    }
   ],
   "source": [
    "# Generate confusion matrix\n",
    "cm = confusion_matrix(y_test, y_pred)\n",
    "\n",
    "# Plot confusion matrix\n",
    "plt.figure(figsize=(8, 6))\n",
    "matrix_labels = np.delete(label_classes, 11)\n",
    "sns.heatmap(cm, annot=True, fmt=\"d\", cmap=\"Blues\", xticklabels=matrix_labels, yticklabels=matrix_labels)\n",
    "plt.xlabel('Predicted Labels')\n",
    "plt.ylabel('True Labels')\n",
    "plt.title('Confusion Matrix')\n",
    "plt.show()"
   ]
  },
  {
   "cell_type": "code",
   "execution_count": 15,
   "metadata": {},
   "outputs": [
    {
     "data": {
      "text/html": [
       "<div>\n",
       "<style scoped>\n",
       "    .dataframe tbody tr th:only-of-type {\n",
       "        vertical-align: middle;\n",
       "    }\n",
       "\n",
       "    .dataframe tbody tr th {\n",
       "        vertical-align: top;\n",
       "    }\n",
       "\n",
       "    .dataframe thead th {\n",
       "        text-align: right;\n",
       "    }\n",
       "</style>\n",
       "<table border=\"1\" class=\"dataframe\">\n",
       "  <thead>\n",
       "    <tr style=\"text-align: right;\">\n",
       "      <th></th>\n",
       "      <th>SRC_GENRE</th>\n",
       "      <th>count</th>\n",
       "    </tr>\n",
       "  </thead>\n",
       "  <tbody>\n",
       "    <tr>\n",
       "      <th>0</th>\n",
       "      <td>Drama</td>\n",
       "      <td>614</td>\n",
       "    </tr>\n",
       "    <tr>\n",
       "      <th>1</th>\n",
       "      <td>Documentary</td>\n",
       "      <td>600</td>\n",
       "    </tr>\n",
       "    <tr>\n",
       "      <th>2</th>\n",
       "      <td>Comedy</td>\n",
       "      <td>455</td>\n",
       "    </tr>\n",
       "    <tr>\n",
       "      <th>3</th>\n",
       "      <td>Action</td>\n",
       "      <td>217</td>\n",
       "    </tr>\n",
       "    <tr>\n",
       "      <th>4</th>\n",
       "      <td>Horror</td>\n",
       "      <td>130</td>\n",
       "    </tr>\n",
       "    <tr>\n",
       "      <th>5</th>\n",
       "      <td>Crime</td>\n",
       "      <td>84</td>\n",
       "    </tr>\n",
       "    <tr>\n",
       "      <th>6</th>\n",
       "      <td>Adventure</td>\n",
       "      <td>51</td>\n",
       "    </tr>\n",
       "    <tr>\n",
       "      <th>7</th>\n",
       "      <td>Thriller</td>\n",
       "      <td>51</td>\n",
       "    </tr>\n",
       "    <tr>\n",
       "      <th>8</th>\n",
       "      <td>Animation</td>\n",
       "      <td>41</td>\n",
       "    </tr>\n",
       "    <tr>\n",
       "      <th>9</th>\n",
       "      <td>Biography</td>\n",
       "      <td>32</td>\n",
       "    </tr>\n",
       "    <tr>\n",
       "      <th>10</th>\n",
       "      <td>Romance</td>\n",
       "      <td>29</td>\n",
       "    </tr>\n",
       "    <tr>\n",
       "      <th>11</th>\n",
       "      <td>Family</td>\n",
       "      <td>19</td>\n",
       "    </tr>\n",
       "    <tr>\n",
       "      <th>12</th>\n",
       "      <td>Sci-Fi</td>\n",
       "      <td>16</td>\n",
       "    </tr>\n",
       "    <tr>\n",
       "      <th>13</th>\n",
       "      <td>Mystery</td>\n",
       "      <td>15</td>\n",
       "    </tr>\n",
       "    <tr>\n",
       "      <th>14</th>\n",
       "      <td>Fantasy</td>\n",
       "      <td>13</td>\n",
       "    </tr>\n",
       "    <tr>\n",
       "      <th>15</th>\n",
       "      <td>Musical</td>\n",
       "      <td>5</td>\n",
       "    </tr>\n",
       "    <tr>\n",
       "      <th>16</th>\n",
       "      <td>Music</td>\n",
       "      <td>5</td>\n",
       "    </tr>\n",
       "    <tr>\n",
       "      <th>17</th>\n",
       "      <td>Sport</td>\n",
       "      <td>3</td>\n",
       "    </tr>\n",
       "    <tr>\n",
       "      <th>18</th>\n",
       "      <td>Western</td>\n",
       "      <td>1</td>\n",
       "    </tr>\n",
       "    <tr>\n",
       "      <th>19</th>\n",
       "      <td>Adult</td>\n",
       "      <td>1</td>\n",
       "    </tr>\n",
       "    <tr>\n",
       "      <th>20</th>\n",
       "      <td>War</td>\n",
       "      <td>1</td>\n",
       "    </tr>\n",
       "    <tr>\n",
       "      <th>21</th>\n",
       "      <td>Short</td>\n",
       "      <td>1</td>\n",
       "    </tr>\n",
       "  </tbody>\n",
       "</table>\n",
       "</div>"
      ],
      "text/plain": [
       "      SRC_GENRE  count\n",
       "0         Drama    614\n",
       "1   Documentary    600\n",
       "2        Comedy    455\n",
       "3        Action    217\n",
       "4        Horror    130\n",
       "5         Crime     84\n",
       "6     Adventure     51\n",
       "7      Thriller     51\n",
       "8     Animation     41\n",
       "9     Biography     32\n",
       "10      Romance     29\n",
       "11       Family     19\n",
       "12       Sci-Fi     16\n",
       "13      Mystery     15\n",
       "14      Fantasy     13\n",
       "15      Musical      5\n",
       "16        Music      5\n",
       "17        Sport      3\n",
       "18      Western      1\n",
       "19        Adult      1\n",
       "20          War      1\n",
       "21        Short      1"
      ]
     },
     "execution_count": 15,
     "metadata": {},
     "output_type": "execute_result"
    }
   ],
   "source": [
    "src_genre_encoded = y_test.value_counts().reset_index()\n",
    "src_genre_encoded['SRC_GENRE'] = src_genre_encoded['SRC_GENRE_ENCODED'].apply(lambda x :label_classes[x])\n",
    "src_genre_encoded[['SRC_GENRE', 'count']]"
   ]
  },
  {
   "cell_type": "markdown",
   "metadata": {},
   "source": [
    "<span style=\"color: lightblue; font-size: 14px;\">Notes:</span>\n",
    "\n",
    "- The model is mixing a lot the summary of Comedy, Documentary and Drama. This could be explored to identify patterns that could differ the words between this genres.\n",
    "- The are a lot of genres that doesn't have any predictions, like War, Thriller, Sports. This is compreensible due genre imbalance"
   ]
  },
  {
   "cell_type": "markdown",
   "metadata": {},
   "source": [
    "### Feature Selection & Engineering"
   ]
  },
  {
   "cell_type": "markdown",
   "metadata": {},
   "source": [
    "**Add + Relevant Columns ('RATING_AVG', 'NO_OF_VOTES', 'BUDGET_AMT', 'RUN_TIME')**"
   ]
  },
  {
   "cell_type": "markdown",
   "metadata": {},
   "source": [
    "<span style=\"color: lightblue; font-size: 14px;\">Notes:</span>\n",
    "\n",
    "- Selected other relevant features, that seems to help on predicting the genre"
   ]
  },
  {
   "cell_type": "code",
   "execution_count": 16,
   "metadata": {},
   "outputs": [],
   "source": [
    "numerical_cols = ['RATING_AVG', 'NO_OF_VOTES', 'BUDGET_AMT', 'RUN_TIME']"
   ]
  },
  {
   "cell_type": "code",
   "execution_count": 17,
   "metadata": {},
   "outputs": [],
   "source": [
    "class DataFrameTransformer(BaseEstimator, TransformerMixin):\n",
    "    \"\"\"\n",
    "    Assuming X is a DataFrame, you can convert it back to a DataFrame,\n",
    "    specifing the columns on the constructor 'columns'.\n",
    "    \"\"\"\n",
    "    def __init__(self, columns):\n",
    "        self.columns = columns\n",
    "        pass\n",
    "    \n",
    "    def fit(self, X, y=None):\n",
    "        return self\n",
    "    \n",
    "    def transform(self, X):              \n",
    "        return pd.DataFrame(X, columns=self.columns)\n"
   ]
  },
  {
   "cell_type": "code",
   "execution_count": 18,
   "metadata": {},
   "outputs": [
    {
     "name": "stdout",
     "output_type": "stream",
     "text": [
      "       RATING_AVG  NO_OF_VOTES  BUDGET_AMT  RUN_TIME\n",
      "0       -3.297765    -0.125599   -0.122683  0.115672\n",
      "1       -1.332044    -0.127197   -0.149128 -0.049699\n",
      "2       -1.060910    -0.128966   -0.122683  0.078088\n",
      "3       -0.179725    -0.126598   -0.122683  0.063054\n",
      "4        0.362543    -0.128767   -0.122683  0.040503\n",
      "...           ...          ...         ...       ...\n",
      "11913    1.718213    -0.098690   -0.122683  0.190841\n",
      "11914   -2.009879    -0.127797   -0.122683 -0.042182\n",
      "11915    0.430327    -0.120834   -0.122683 -0.237621\n",
      "11916    0.633677    -0.122489   -0.122683 -0.109834\n",
      "11917   -0.450859    -0.126798   -0.122683 -0.087284\n",
      "\n",
      "[11918 rows x 4 columns]\n"
     ]
    }
   ],
   "source": [
    "num_df = df[numerical_cols]\n",
    "\n",
    "num_pipeline = Pipeline([\n",
    "    ('imputer', SimpleImputer(strategy='median')),\n",
    "    ('scaler', StandardScaler()),\n",
    "    ('transformer', DataFrameTransformer(numerical_cols))  # transform back to df\n",
    "])\n",
    "\n",
    "num_df = num_pipeline.fit_transform(num_df)\n",
    "\n",
    "print(num_df)"
   ]
  },
  {
   "cell_type": "code",
   "execution_count": 19,
   "metadata": {},
   "outputs": [],
   "source": [
    "to_concat = [df[[\"PLOT_SUMMARY_CLEAN\", \"SRC_GENRE_ENCODED\"]], num_df]\n",
    "df_clean = pd.concat(to_concat, axis=1)"
   ]
  },
  {
   "cell_type": "code",
   "execution_count": 20,
   "metadata": {},
   "outputs": [
    {
     "data": {
      "text/html": [
       "<div>\n",
       "<style scoped>\n",
       "    .dataframe tbody tr th:only-of-type {\n",
       "        vertical-align: middle;\n",
       "    }\n",
       "\n",
       "    .dataframe tbody tr th {\n",
       "        vertical-align: top;\n",
       "    }\n",
       "\n",
       "    .dataframe thead th {\n",
       "        text-align: right;\n",
       "    }\n",
       "</style>\n",
       "<table border=\"1\" class=\"dataframe\">\n",
       "  <thead>\n",
       "    <tr style=\"text-align: right;\">\n",
       "      <th></th>\n",
       "      <th>PLOT_SUMMARY_CLEAN</th>\n",
       "      <th>SRC_GENRE_ENCODED</th>\n",
       "      <th>RATING_AVG</th>\n",
       "      <th>NO_OF_VOTES</th>\n",
       "      <th>BUDGET_AMT</th>\n",
       "      <th>RUN_TIME</th>\n",
       "    </tr>\n",
       "  </thead>\n",
       "  <tbody>\n",
       "    <tr>\n",
       "      <th>0</th>\n",
       "      <td>1988 2000 Taiwan released six Yes Sir film exp...</td>\n",
       "      <td>5</td>\n",
       "      <td>-3.297765</td>\n",
       "      <td>-0.125599</td>\n",
       "      <td>-0.122683</td>\n",
       "      <td>0.115672</td>\n",
       "    </tr>\n",
       "    <tr>\n",
       "      <th>1</th>\n",
       "      <td>college student pass party wake bedroom Edgar ...</td>\n",
       "      <td>12</td>\n",
       "      <td>-1.332044</td>\n",
       "      <td>-0.127197</td>\n",
       "      <td>-0.149128</td>\n",
       "      <td>-0.049699</td>\n",
       "    </tr>\n",
       "    <tr>\n",
       "      <th>2</th>\n",
       "      <td>ancient time Demon King born human grievance s...</td>\n",
       "      <td>0</td>\n",
       "      <td>-1.060910</td>\n",
       "      <td>-0.128966</td>\n",
       "      <td>-0.122683</td>\n",
       "      <td>0.078088</td>\n",
       "    </tr>\n",
       "    <tr>\n",
       "      <th>3</th>\n",
       "      <td>Haruko single mother unusual living arrangemen...</td>\n",
       "      <td>8</td>\n",
       "      <td>-0.179725</td>\n",
       "      <td>-0.126598</td>\n",
       "      <td>-0.122683</td>\n",
       "      <td>0.063054</td>\n",
       "    </tr>\n",
       "    <tr>\n",
       "      <th>4</th>\n",
       "      <td>Aqilla aspiration become astronaut grandfather...</td>\n",
       "      <td>2</td>\n",
       "      <td>0.362543</td>\n",
       "      <td>-0.128767</td>\n",
       "      <td>-0.122683</td>\n",
       "      <td>0.040503</td>\n",
       "    </tr>\n",
       "    <tr>\n",
       "      <th>...</th>\n",
       "      <td>...</td>\n",
       "      <td>...</td>\n",
       "      <td>...</td>\n",
       "      <td>...</td>\n",
       "      <td>...</td>\n",
       "      <td>...</td>\n",
       "    </tr>\n",
       "    <tr>\n",
       "      <th>11913</th>\n",
       "      <td>Okka Roju Telugu movie starring Aaditya Reddy ...</td>\n",
       "      <td>8</td>\n",
       "      <td>1.718213</td>\n",
       "      <td>-0.098690</td>\n",
       "      <td>-0.122683</td>\n",
       "      <td>0.190841</td>\n",
       "    </tr>\n",
       "    <tr>\n",
       "      <th>11914</th>\n",
       "      <td>7 friend got invited swimming pool engagement ...</td>\n",
       "      <td>12</td>\n",
       "      <td>-2.009879</td>\n",
       "      <td>-0.127797</td>\n",
       "      <td>-0.122683</td>\n",
       "      <td>-0.042182</td>\n",
       "    </tr>\n",
       "    <tr>\n",
       "      <th>11915</th>\n",
       "      <td>Mr Toomey obsessively tear paper control child...</td>\n",
       "      <td>3</td>\n",
       "      <td>0.430327</td>\n",
       "      <td>-0.120834</td>\n",
       "      <td>-0.122683</td>\n",
       "      <td>-0.237621</td>\n",
       "    </tr>\n",
       "    <tr>\n",
       "      <th>11916</th>\n",
       "      <td>eyeopening documentary dealing cost prescribin...</td>\n",
       "      <td>7</td>\n",
       "      <td>0.633677</td>\n",
       "      <td>-0.122489</td>\n",
       "      <td>-0.122683</td>\n",
       "      <td>-0.109834</td>\n",
       "    </tr>\n",
       "    <tr>\n",
       "      <th>11917</th>\n",
       "      <td>story top model decides put weight love</td>\n",
       "      <td>5</td>\n",
       "      <td>-0.450859</td>\n",
       "      <td>-0.126798</td>\n",
       "      <td>-0.122683</td>\n",
       "      <td>-0.087284</td>\n",
       "    </tr>\n",
       "  </tbody>\n",
       "</table>\n",
       "<p>11918 rows × 6 columns</p>\n",
       "</div>"
      ],
      "text/plain": [
       "                                      PLOT_SUMMARY_CLEAN  SRC_GENRE_ENCODED  \\\n",
       "0      1988 2000 Taiwan released six Yes Sir film exp...                  5   \n",
       "1      college student pass party wake bedroom Edgar ...                 12   \n",
       "2      ancient time Demon King born human grievance s...                  0   \n",
       "3      Haruko single mother unusual living arrangemen...                  8   \n",
       "4      Aqilla aspiration become astronaut grandfather...                  2   \n",
       "...                                                  ...                ...   \n",
       "11913  Okka Roju Telugu movie starring Aaditya Reddy ...                  8   \n",
       "11914  7 friend got invited swimming pool engagement ...                 12   \n",
       "11915  Mr Toomey obsessively tear paper control child...                  3   \n",
       "11916  eyeopening documentary dealing cost prescribin...                  7   \n",
       "11917            story top model decides put weight love                  5   \n",
       "\n",
       "       RATING_AVG  NO_OF_VOTES  BUDGET_AMT  RUN_TIME  \n",
       "0       -3.297765    -0.125599   -0.122683  0.115672  \n",
       "1       -1.332044    -0.127197   -0.149128 -0.049699  \n",
       "2       -1.060910    -0.128966   -0.122683  0.078088  \n",
       "3       -0.179725    -0.126598   -0.122683  0.063054  \n",
       "4        0.362543    -0.128767   -0.122683  0.040503  \n",
       "...           ...          ...         ...       ...  \n",
       "11913    1.718213    -0.098690   -0.122683  0.190841  \n",
       "11914   -2.009879    -0.127797   -0.122683 -0.042182  \n",
       "11915    0.430327    -0.120834   -0.122683 -0.237621  \n",
       "11916    0.633677    -0.122489   -0.122683 -0.109834  \n",
       "11917   -0.450859    -0.126798   -0.122683 -0.087284  \n",
       "\n",
       "[11918 rows x 6 columns]"
      ]
     },
     "execution_count": 20,
     "metadata": {},
     "output_type": "execute_result"
    }
   ],
   "source": [
    "df_clean"
   ]
  },
  {
   "cell_type": "code",
   "execution_count": 21,
   "metadata": {},
   "outputs": [
    {
     "name": "stdout",
     "output_type": "stream",
     "text": [
      "Accuracy: 0.5360738255033557\n",
      "Precision: 0.47237327136643453\n",
      "Recall: 0.5360738255033557\n",
      "F1: 0.49050503472891566\n"
     ]
    }
   ],
   "source": [
    "X_other = df_clean[numerical_cols].to_numpy()\n",
    "\n",
    "# combine fd-idf matrix with other features\n",
    "X_combined = np.concatenate((X, X_other), axis=1)\n",
    "\n",
    "(model, X_train, X_test, y_train, y_test, y_pred) = evaluate_on_baseline_model(X_combined)"
   ]
  },
  {
   "cell_type": "code",
   "execution_count": 24,
   "metadata": {},
   "outputs": [],
   "source": [
    "save_model(model, \"LogisticRegression\", \"5360\")"
   ]
  },
  {
   "cell_type": "markdown",
   "metadata": {},
   "source": [
    "<span style=\"color: lightblue; font-size: 14px;\">Notes:</span>\n",
    "\n",
    "- Selected other relevant features, that seems to help on predicting the genre\n",
    "- Got a higher score of ~54%, increasing 4% from the baseline model"
   ]
  },
  {
   "cell_type": "markdown",
   "metadata": {},
   "source": [
    "**Outlier Detection and Treatment**"
   ]
  },
  {
   "cell_type": "code",
   "execution_count": 25,
   "metadata": {},
   "outputs": [],
   "source": [
    "outliers_columns = ['RUN_TIME', 'BUDGET_AMT', 'NO_OF_VOTES']"
   ]
  },
  {
   "cell_type": "code",
   "execution_count": 26,
   "metadata": {},
   "outputs": [],
   "source": [
    "class OutlierTreatment(BasePreProcessorStep):\n",
    "    \"\"\"\n",
    "    \"\"\"\n",
    "    def __init__(self, columns, strategy='lof', indexes=None):\n",
    "        self.columns = columns\n",
    "        self.strategy = strategy\n",
    "        self.indexes = indexes\n",
    "\n",
    "    def outliers_lof_method(self, df, columns):\n",
    "        for column in columns:\n",
    "            X = df[column].values\n",
    "            lof = LocalOutlierFactor()\n",
    "            yhat = lof.fit_predict(X.reshape(-1, 1))\n",
    "            mask = yhat != -1\n",
    "            non_outlier_df = df.iloc[mask, :]\n",
    "            print(F'Column: {column}')\n",
    "            print(F'Identified outliers: {df.shape[0] - non_outlier_df.shape[0]}')\n",
    "            print(F'Non-outlier observations: {non_outlier_df.shape[0]}')\n",
    "        return non_outlier_df\n",
    "\n",
    "    def fit_transform(self, df, numerical_cols, categorical_cols):\n",
    "        # Preprocessing for target variable\n",
    "        if self.strategy == 'lof':\n",
    "            df = self.outliers_lof_method(df, self.columns)\n",
    "        elif self.strategy == 'handy':\n",
    "            df = df.drop(indexes)\n",
    "        return df"
   ]
  },
  {
   "cell_type": "code",
   "execution_count": 27,
   "metadata": {},
   "outputs": [
    {
     "name": "stdout",
     "output_type": "stream",
     "text": [
      "Column: RUN_TIME\n",
      "Identified outliers: 149\n",
      "Non-outlier observations: 11769\n",
      "Column: BUDGET_AMT\n",
      "Identified outliers: 306\n",
      "Non-outlier observations: 11612\n",
      "Column: NO_OF_VOTES\n",
      "Identified outliers: 229\n",
      "Non-outlier observations: 11689\n"
     ]
    }
   ],
   "source": [
    "execute_preprocessor([OutlierTreatment(outliers_columns)], df_clean)"
   ]
  },
  {
   "cell_type": "markdown",
   "metadata": {},
   "source": [
    "<span style=\"color: lightblue; font-size: 14px;\">Notes:</span>\n",
    "\n",
    "- Would lose too much information, decided no applying for now"
   ]
  },
  {
   "cell_type": "markdown",
   "metadata": {},
   "source": [
    "**Add TITLE_YR, RELEASE_DATE**"
   ]
  },
  {
   "cell_type": "code",
   "execution_count": 28,
   "metadata": {},
   "outputs": [],
   "source": [
    "numerical_cols_2 = numerical_cols + ['TITLE_YR', 'RELEASE_DT']"
   ]
  },
  {
   "cell_type": "code",
   "execution_count": 29,
   "metadata": {},
   "outputs": [
    {
     "data": {
      "text/plain": [
       "['RATING_AVG',\n",
       " 'NO_OF_VOTES',\n",
       " 'BUDGET_AMT',\n",
       " 'RUN_TIME',\n",
       " 'TITLE_YR',\n",
       " 'RELEASE_DT']"
      ]
     },
     "execution_count": 29,
     "metadata": {},
     "output_type": "execute_result"
    }
   ],
   "source": [
    "numerical_cols_2"
   ]
  },
  {
   "cell_type": "code",
   "execution_count": 30,
   "metadata": {},
   "outputs": [
    {
     "name": "stdout",
     "output_type": "stream",
     "text": [
      "       RATING_AVG  NO_OF_VOTES  BUDGET_AMT  RUN_TIME  TITLE_YR  RELEASE_DT\n",
      "0       -3.297765    -0.125599   -0.122683  0.115672  0.295409    0.143839\n",
      "1       -1.332044    -0.127197   -0.149128 -0.049699  1.326258    0.385128\n",
      "2       -1.060910    -0.128966   -0.122683  0.078088  1.154450    0.324951\n",
      "3       -0.179725    -0.126598   -0.122683  0.063054  1.154450    0.309665\n",
      "4        0.362543    -0.128767   -0.122683  0.040503  0.810833    0.244650\n",
      "...           ...          ...         ...       ...       ...         ...\n",
      "11913    1.718213    -0.098690   -0.122683  0.190841  1.498066    0.387740\n",
      "11914   -2.009879    -0.127797   -0.122683 -0.042182  0.123601    0.105237\n",
      "11915    0.430327    -0.120834   -0.122683 -0.237621  1.154450    0.322532\n",
      "11916    0.633677    -0.122489   -0.122683 -0.109834 -1.079055   -0.132085\n",
      "11917   -0.450859    -0.126798   -0.122683 -0.087284 -0.391823   -0.000508\n",
      "\n",
      "[11918 rows x 6 columns]\n"
     ]
    }
   ],
   "source": [
    "num_df_2 = df[numerical_cols_2].copy()\n",
    "num_df_2['RELEASE_DT'] = num_df_2['RELEASE_DT'].astype('int64')\n",
    "\n",
    "num_pipeline_2 = Pipeline([\n",
    "    ('imputer', SimpleImputer(strategy='median')),\n",
    "    ('scaler', StandardScaler()),\n",
    "    ('transformer', DataFrameTransformer(numerical_cols_2))  # transform back to df\n",
    "])\n",
    "\n",
    "num_df_2 = num_pipeline_2.fit_transform(num_df_2)\n",
    "\n",
    "print(num_df_2)"
   ]
  },
  {
   "cell_type": "code",
   "execution_count": 32,
   "metadata": {},
   "outputs": [
    {
     "name": "stdout",
     "output_type": "stream",
     "text": [
      "Accuracy: 0.5369127516778524\n",
      "Precision: 0.481139085375517\n",
      "Recall: 0.5369127516778524\n",
      "F1: 0.4919404863774324\n"
     ]
    }
   ],
   "source": [
    "X_other_2 = num_df_2.to_numpy()\n",
    "\n",
    "# combine fd-idf matrix with other features\n",
    "X_combined_2 = np.concatenate((X, X_other_2), axis=1)\n",
    "\n",
    "(model, X_train, X_test, y_train, y_test, y_pred) = evaluate_on_baseline_model(X_combined_2)"
   ]
  },
  {
   "cell_type": "markdown",
   "metadata": {},
   "source": [
    "<span style=\"color: lightblue; font-size: 14px;\">Notes:</span>\n",
    "\n",
    "- Score slightly increased"
   ]
  },
  {
   "cell_type": "code",
   "execution_count": 33,
   "metadata": {},
   "outputs": [],
   "source": [
    "save_model(model, \"LogisticRegression\", \"5369\")"
   ]
  },
  {
   "cell_type": "markdown",
   "metadata": {},
   "source": [
    "### Model Selection"
   ]
  },
  {
   "cell_type": "markdown",
   "metadata": {},
   "source": [
    "**Machine learning**"
   ]
  },
  {
   "cell_type": "code",
   "execution_count": null,
   "metadata": {},
   "outputs": [],
   "source": [
    "models = {\n",
    "    \"Logistic Regression\": LogisticRegression(random_state=42),\n",
    "    \"Random Forest\": RandomForestClassifier(random_state=42),\n",
    "    \"SVM\": SVC(random_state=42),\n",
    "    \"CatBoost\": CatBoostClassifier(),\n",
    "    \"Stochastic Gradient\": SGDClassifier(random_state=42)   \n",
    "}\n",
    "\n",
    "cv = KFold(n_splits=5, shuffle=True, random_state=42)\n",
    "\n",
    "metrics = {\n",
    "    \"Accuracy\": make_scorer(accuracy_score),\n",
    "    \"Precision\": make_scorer(precision_score, average='weighted'),  # 'weighted' for multiclass\n",
    "    \"Recall\": make_scorer(recall_score, average='weighted'),  # 'weighted' for multiclass\n",
    "    \"F1\": make_scorer(f1_score, average='weighted')  # 'weighted' for multiclass\n",
    "}\n",
    "\n",
    "# cross-validation for each model\n",
    "results = {}\n",
    "for model_name, model in models.items():\n",
    "    model_results = {}\n",
    "    for metric_name, metric_func in metrics.items():\n",
    "        scores = cross_val_score(model, X_combined, y, cv=cv, scoring=metric_func)\n",
    "        model_results[metric_name] = scores.mean()\n",
    "    results[model_name] = model_results"
   ]
  },
  {
   "cell_type": "code",
   "execution_count": 34,
   "metadata": {},
   "outputs": [
    {
     "name": "stdout",
     "output_type": "stream",
     "text": [
      "Logistic Regression:\n",
      "Accuracy: 0.5223\n",
      "Precision: 0.4707\n",
      "Recall: 0.5223\n",
      "F1: 0.4758\n",
      "\n",
      "Random Forest:\n",
      "Accuracy: 0.4852\n",
      "Precision: 0.4429\n",
      "Recall: 0.4852\n",
      "F1: 0.4247\n",
      "\n",
      "SVM:\n",
      "Accuracy: 0.4946\n",
      "Precision: 0.4296\n",
      "Recall: 0.4946\n",
      "F1: 0.4359\n",
      "\n"
     ]
    }
   ],
   "source": [
    "# results\n",
    "for model_name, model_result in results.items():\n",
    "    print(f\"{model_name}:\")\n",
    "    for metric_name, score in model_result.items():\n",
    "        print(f\"{metric_name}: {score:.4f}\")\n",
    "    print()"
   ]
  },
  {
   "cell_type": "markdown",
   "metadata": {},
   "source": [
    "<span style=\"color: lightblue; font-size: 14px;\">Notes:</span>\n",
    "\n",
    "- It happens that Logistic Regression (less complex) is scoring better on this problem. This may be due overfitting and imbalance. The second algorith is CatBoost with 52% Accuracy and 48% F1, which is way more complex and difficult to train, so I will keep Logistic for now.\n",
    "- There is also a problem using cross validation, due a high number of classes that have low samples"
   ]
  },
  {
   "cell_type": "markdown",
   "metadata": {},
   "source": [
    "**Deep Learning**"
   ]
  },
  {
   "cell_type": "code",
   "execution_count": 180,
   "metadata": {},
   "outputs": [
    {
     "name": "stdout",
     "output_type": "stream",
     "text": [
      "Epoch 1/10\n",
      "\u001b[1m298/298\u001b[0m \u001b[32m━━━━━━━━━━━━━━━━━━━━\u001b[0m\u001b[37m\u001b[0m \u001b[1m6s\u001b[0m 14ms/step - accuracy: 0.2310 - loss: 162.1053 - val_accuracy: 0.2576 - val_loss: 2.0530\n",
      "Epoch 2/10\n",
      "\u001b[1m298/298\u001b[0m \u001b[32m━━━━━━━━━━━━━━━━━━━━\u001b[0m\u001b[37m\u001b[0m \u001b[1m4s\u001b[0m 14ms/step - accuracy: 0.2519 - loss: 2.1167 - val_accuracy: 0.2576 - val_loss: 2.0403\n",
      "Epoch 3/10\n",
      "\u001b[1m298/298\u001b[0m \u001b[32m━━━━━━━━━━━━━━━━━━━━\u001b[0m\u001b[37m\u001b[0m \u001b[1m4s\u001b[0m 13ms/step - accuracy: 0.2417 - loss: 2.0859 - val_accuracy: 0.2576 - val_loss: 2.0398\n",
      "Epoch 4/10\n",
      "\u001b[1m298/298\u001b[0m \u001b[32m━━━━━━━━━━━━━━━━━━━━\u001b[0m\u001b[37m\u001b[0m \u001b[1m4s\u001b[0m 13ms/step - accuracy: 0.2640 - loss: 2.0840 - val_accuracy: 0.2517 - val_loss: 2.0371\n",
      "Epoch 5/10\n",
      "\u001b[1m298/298\u001b[0m \u001b[32m━━━━━━━━━━━━━━━━━━━━\u001b[0m\u001b[37m\u001b[0m \u001b[1m4s\u001b[0m 13ms/step - accuracy: 0.2497 - loss: 2.0826 - val_accuracy: 0.2576 - val_loss: 2.0391\n",
      "Epoch 6/10\n",
      "\u001b[1m298/298\u001b[0m \u001b[32m━━━━━━━━━━━━━━━━━━━━\u001b[0m\u001b[37m\u001b[0m \u001b[1m4s\u001b[0m 13ms/step - accuracy: 0.2533 - loss: 2.1010 - val_accuracy: 0.2576 - val_loss: 2.0369\n",
      "Epoch 7/10\n",
      "\u001b[1m298/298\u001b[0m \u001b[32m━━━━━━━━━━━━━━━━━━━━\u001b[0m\u001b[37m\u001b[0m \u001b[1m4s\u001b[0m 13ms/step - accuracy: 0.2585 - loss: 2.0788 - val_accuracy: 0.2576 - val_loss: 2.0374\n",
      "Epoch 8/10\n",
      "\u001b[1m298/298\u001b[0m \u001b[32m━━━━━━━━━━━━━━━━━━━━\u001b[0m\u001b[37m\u001b[0m \u001b[1m4s\u001b[0m 13ms/step - accuracy: 0.2499 - loss: 2.0790 - val_accuracy: 0.2576 - val_loss: 2.0377\n",
      "Epoch 9/10\n",
      "\u001b[1m298/298\u001b[0m \u001b[32m━━━━━━━━━━━━━━━━━━━━\u001b[0m\u001b[37m\u001b[0m \u001b[1m4s\u001b[0m 13ms/step - accuracy: 0.2655 - loss: 2.0764 - val_accuracy: 0.2576 - val_loss: 2.0376\n",
      "Epoch 10/10\n",
      "\u001b[1m298/298\u001b[0m \u001b[32m━━━━━━━━━━━━━━━━━━━━\u001b[0m\u001b[37m\u001b[0m \u001b[1m4s\u001b[0m 13ms/step - accuracy: 0.2607 - loss: 2.0765 - val_accuracy: 0.2576 - val_loss: 2.0380\n",
      "\u001b[1m75/75\u001b[0m \u001b[32m━━━━━━━━━━━━━━━━━━━━\u001b[0m\u001b[37m\u001b[0m \u001b[1m0s\u001b[0m 2ms/step - accuracy: 0.2658 - loss: 2.0276\n",
      "Test Accuracy: 0.25755032896995544\n"
     ]
    }
   ],
   "source": [
    "# FNN\n",
    "model = Sequential([\n",
    "    Dense(512, activation='relu'),\n",
    "    Dropout(0.5),\n",
    "    Dense(256, activation='relu'),\n",
    "    Dropout(0.5),\n",
    "    Dense(len(label_classes), activation='softmax')\n",
    "])\n",
    "\n",
    "model.compile(optimizer='adam',\n",
    "              loss='sparse_categorical_crossentropy',\n",
    "              metrics=['accuracy'])\n",
    "\n",
    "model.fit(X_train, y_train, epochs=10, batch_size=32, validation_data=(X_test, y_test))\n",
    "\n",
    "loss, accuracy = model.evaluate(X_test, y_test)\n",
    "print(\"Test Accuracy:\", accuracy)"
   ]
  },
  {
   "cell_type": "markdown",
   "metadata": {},
   "source": [
    "<span style=\"color: lightblue; font-size: 14px;\">Notes:</span>\n",
    "\n",
    "- val_accuracy is dropping over time, the model is overfitting. Needs to reduce the complexity."
   ]
  },
  {
   "cell_type": "code",
   "execution_count": 120,
   "metadata": {},
   "outputs": [
    {
     "name": "stdout",
     "output_type": "stream",
     "text": [
      "Epoch 1/10\n",
      "\u001b[1m298/298\u001b[0m \u001b[32m━━━━━━━━━━━━━━━━━━━━\u001b[0m\u001b[37m\u001b[0m \u001b[1m5s\u001b[0m 14ms/step - accuracy: 0.3350 - loss: 2.1784 - val_accuracy: 0.5256 - val_loss: 1.5446\n",
      "Epoch 2/10\n",
      "\u001b[1m298/298\u001b[0m \u001b[32m━━━━━━━━━━━━━━━━━━━━\u001b[0m\u001b[37m\u001b[0m \u001b[1m4s\u001b[0m 13ms/step - accuracy: 0.5829 - loss: 1.3825 - val_accuracy: 0.5428 - val_loss: 1.4894\n",
      "Epoch 3/10\n",
      "\u001b[1m298/298\u001b[0m \u001b[32m━━━━━━━━━━━━━━━━━━━━\u001b[0m\u001b[37m\u001b[0m \u001b[1m4s\u001b[0m 13ms/step - accuracy: 0.6965 - loss: 1.0652 - val_accuracy: 0.5252 - val_loss: 1.6027\n",
      "Epoch 4/10\n",
      "\u001b[1m298/298\u001b[0m \u001b[32m━━━━━━━━━━━━━━━━━━━━\u001b[0m\u001b[37m\u001b[0m \u001b[1m4s\u001b[0m 13ms/step - accuracy: 0.7885 - loss: 0.7229 - val_accuracy: 0.5122 - val_loss: 1.7704\n",
      "Epoch 5/10\n",
      "\u001b[1m298/298\u001b[0m \u001b[32m━━━━━━━━━━━━━━━━━━━━\u001b[0m\u001b[37m\u001b[0m \u001b[1m4s\u001b[0m 13ms/step - accuracy: 0.8558 - loss: 0.5247 - val_accuracy: 0.4904 - val_loss: 2.0285\n"
     ]
    },
    {
     "data": {
      "text/plain": [
       "<keras.src.callbacks.history.History at 0x1b79c2d10d0>"
      ]
     },
     "execution_count": 120,
     "metadata": {},
     "output_type": "execute_result"
    }
   ],
   "source": [
    "# early stopping\n",
    "early_stopping = EarlyStopping(monitor='val_accuracy', patience=3, restore_best_weights=True)\n",
    "\n",
    "model.fit(\n",
    "    X_train, \n",
    "    y_train,\n",
    "    epochs=10,\n",
    "    batch_size=32,\n",
    "    validation_data=(X_test, y_test), \n",
    "    callbacks=[early_stopping]\n",
    ")"
   ]
  },
  {
   "cell_type": "markdown",
   "metadata": {},
   "source": [
    "<span style=\"color: lightblue; font-size: 14px;\">Notes:</span>\n",
    "\n",
    "- Now the current best model is this FNN, with 54.31% Accuracy."
   ]
  },
  {
   "cell_type": "markdown",
   "metadata": {},
   "source": [
    "### Hyperparameter Tunning"
   ]
  },
  {
   "cell_type": "code",
   "execution_count": 114,
   "metadata": {},
   "outputs": [
    {
     "name": "stdout",
     "output_type": "stream",
     "text": [
      "Trial 10 Complete [00h 00m 43s]\n",
      "val_accuracy: 0.5377516746520996\n",
      "\n",
      "Best val_accuracy So Far: 0.5486577153205872\n",
      "Total elapsed time: 00h 03m 36s\n",
      "Best Hyperparameters:\n",
      "{'units_1': 384, 'dropout_1': 0.6, 'units_2': 128, 'dropout_2': 0.5}\n"
     ]
    }
   ],
   "source": [
    "# build model dynamically for RandomrSearch\n",
    "def build_model(hp):\n",
    "    model = Sequential()\n",
    "    model.add(Dense(units=hp.Int('units_1', min_value=64, max_value=512, step=64),\n",
    "                    activation='relu'))\n",
    "    model.add(Dropout(rate=hp.Float('dropout_1', min_value=0.5, max_value=0.7, step=0.1)))\n",
    "    model.add(Dense(units=hp.Int('units_2', min_value=64, max_value=512, step=64),\n",
    "                    activation='relu'))\n",
    "    model.add(Dropout(rate=hp.Float('dropout_2', min_value=0.5, max_value=0.7, step=0.1)))\n",
    "    model.add(Dense(len(label_classes), activation='softmax'))\n",
    "    \n",
    "    model.compile(optimizer='adam',\n",
    "                  loss='sparse_categorical_crossentropy',\n",
    "                  metrics=['accuracy'])\n",
    "    \n",
    "    return model\n",
    "\n",
    "tuner = RandomSearch(\n",
    "    build_model,\n",
    "    objective='val_accuracy',\n",
    "    max_trials=10,\n",
    "    directory='tunning',\n",
    "    project_name='FNN'\n",
    ")\n",
    "\n",
    "# search\n",
    "tuner.search(X_train, y_train,\n",
    "             epochs=10,\n",
    "             validation_data=(X_test, y_test))\n",
    "\n",
    "# best hyperparameters\n",
    "best_hps=tuner.get_best_hyperparameters(num_trials=1)[0]\n",
    "print(\"Best Hyperparameters:\")\n",
    "print(best_hps.values)"
   ]
  },
  {
   "cell_type": "markdown",
   "metadata": {},
   "source": [
    "<span style=\"color: lightblue; font-size: 14px;\">Notes:</span>\n",
    "\n",
    "- Increased the Droput ceiling and reduced model hidden layers to decrease complexity "
   ]
  },
  {
   "cell_type": "code",
   "execution_count": 130,
   "metadata": {},
   "outputs": [
    {
     "name": "stdout",
     "output_type": "stream",
     "text": [
      "Epoch 1/10\n",
      "\u001b[1m298/298\u001b[0m \u001b[32m━━━━━━━━━━━━━━━━━━━━\u001b[0m\u001b[37m\u001b[0m \u001b[1m5s\u001b[0m 12ms/step - accuracy: 0.3365 - loss: 2.2871 - val_accuracy: 0.5025 - val_loss: 1.5887\n",
      "Epoch 2/10\n",
      "\u001b[1m298/298\u001b[0m \u001b[32m━━━━━━━━━━━━━━━━━━━━\u001b[0m\u001b[37m\u001b[0m \u001b[1m3s\u001b[0m 10ms/step - accuracy: 0.5342 - loss: 1.5552 - val_accuracy: 0.5445 - val_loss: 1.4867\n",
      "Epoch 3/10\n",
      "\u001b[1m298/298\u001b[0m \u001b[32m━━━━━━━━━━━━━━━━━━━━\u001b[0m\u001b[37m\u001b[0m \u001b[1m3s\u001b[0m 10ms/step - accuracy: 0.6490 - loss: 1.2556 - val_accuracy: 0.5344 - val_loss: 1.5223\n"
     ]
    }
   ],
   "source": [
    "best_model = tuner.hypermodel.build(best_hps)\n",
    "best_model.fit(X_train, y_train, epochs=10, validation_data=(X_test, y_test), callbacks=[early_stopping]) # train\n",
    "save_model(best_model, 'FNN', '5486', is_tf=True)"
   ]
  },
  {
   "cell_type": "markdown",
   "metadata": {},
   "source": [
    "### Final Inference"
   ]
  },
  {
   "cell_type": "code",
   "execution_count": 123,
   "metadata": {},
   "outputs": [],
   "source": [
    "tests = pd.read_excel(DATA_PATH + \"test_set.xlsx\")"
   ]
  },
  {
   "cell_type": "code",
   "execution_count": 132,
   "metadata": {},
   "outputs": [],
   "source": [
    "def list_models():\n",
    "    files = []\n",
    "    for dirname, _, filenames in os.walk(MODEL_PATH):\n",
    "        for filename in filenames:\n",
    "            file = {\n",
    "                'path': os.path.join(dirname, filename),\n",
    "                'score': filename.split(\".\")[0][-4:],\n",
    "                'ext': filename.split(\".\")[1]\n",
    "            }\n",
    "            files.append(file)\n",
    "    return files\n",
    "\n",
    "def load_best_model():\n",
    "    models = list_models()\n",
    "    best = max(models, key=lambda x: x['score'])\n",
    "    print(best)\n",
    "    if best['ext'] in ['keras', 'h5']:\n",
    "       model = load_model(best['path'])\n",
    "    else:\n",
    "       with open(best['path'], 'rb') as f:\n",
    "           model = pickle.load(f)\n",
    "    return model\n",
    "\n",
    "def model_predict(model, test_df, final_df):\n",
    "    predictions = model.predict(test_df)\n",
    "    y_pred = np.argmax(predictions, axis=1)\n",
    "    final_df[\"SRC_GENRE_PREDICTED\"] = np.array(list(map(lambda x: label_classes[x], y_pred)))\n",
    "    return final_df\n",
    "\n",
    "def save_predictions(final_df):\n",
    "    final_df.to_excel(DATA_PATH + \"test_predictions.xlsx\", index=False)"
   ]
  },
  {
   "cell_type": "code",
   "execution_count": 134,
   "metadata": {},
   "outputs": [
    {
     "name": "stdout",
     "output_type": "stream",
     "text": [
      "{'path': '../models/FNN_5486.keras', 'score': '5486', 'ext': 'keras'}\n"
     ]
    }
   ],
   "source": [
    "model = load_best_model()"
   ]
  },
  {
   "cell_type": "code",
   "execution_count": 136,
   "metadata": {},
   "outputs": [
    {
     "data": {
      "text/plain": [
       "array([[ 0.        ,  0.        ,  0.        , ..., -0.11896356,\n",
       "        -0.12389325,  0.3941144 ],\n",
       "       [ 0.        ,  0.        ,  0.        , ..., -0.13662977,\n",
       "        -0.1495308 , -0.35555501],\n",
       "       [ 0.        ,  0.        ,  0.        , ..., -0.12740197,\n",
       "        -0.14875911,  0.4357627 ],\n",
       "       ...,\n",
       "       [ 0.        ,  0.        ,  0.        , ..., -0.083985  ,\n",
       "        -0.0853083 , -0.14731351],\n",
       "       [ 0.        ,  0.        ,  0.        , ..., -0.13344496,\n",
       "        -0.12389325, -0.10566521],\n",
       "       [ 0.        ,  0.        ,  0.        , ..., -0.13526874,\n",
       "        -0.12389325,  0.893894  ]])"
      ]
     },
     "execution_count": 136,
     "metadata": {},
     "output_type": "execute_result"
    }
   ],
   "source": [
    "def test_submission_pipeline(test, tf_idf):\n",
    "    test_df = test.copy()\n",
    "    test_steps = [\n",
    "        FillSummary(), \n",
    "        NaturalLanguageProcessing()\n",
    "    ]\n",
    "    execute_preprocessor(test_steps, test_df)\n",
    "    test_num_df = test_df[numerical_cols]\n",
    "    test_num_df = num_pipeline.fit_transform(test_num_df[numerical_cols])\n",
    "    test_summary_df = tf_idf.TF_IDF_Transform(test_df[\"PLOT_SUMMARY_CLEAN\"])\n",
    "    test_X_combined = np.concatenate((test_summary_df, test_num_df), axis=1)\n",
    "\n",
    "    return test_X_combined\n",
    "\n",
    "test_df_preprocessed = test_submission_pipeline(tests, tf_idf)\n",
    "test_df_preprocessed"
   ]
  },
  {
   "cell_type": "code",
   "execution_count": 137,
   "metadata": {},
   "outputs": [
    {
     "name": "stdout",
     "output_type": "stream",
     "text": [
      "\u001b[1m375/375\u001b[0m \u001b[32m━━━━━━━━━━━━━━━━━━━━\u001b[0m\u001b[37m\u001b[0m \u001b[1m1s\u001b[0m 2ms/step\n"
     ]
    }
   ],
   "source": [
    "tests = model_predict(model, test_df_preprocessed, tests)\n",
    "save_predictions(tests)"
   ]
  },
  {
   "cell_type": "code",
   "execution_count": 138,
   "metadata": {},
   "outputs": [
    {
     "data": {
      "text/html": [
       "<div>\n",
       "<style scoped>\n",
       "    .dataframe tbody tr th:only-of-type {\n",
       "        vertical-align: middle;\n",
       "    }\n",
       "\n",
       "    .dataframe tbody tr th {\n",
       "        vertical-align: top;\n",
       "    }\n",
       "\n",
       "    .dataframe thead th {\n",
       "        text-align: right;\n",
       "    }\n",
       "</style>\n",
       "<table border=\"1\" class=\"dataframe\">\n",
       "  <thead>\n",
       "    <tr style=\"text-align: right;\">\n",
       "      <th></th>\n",
       "      <th>ID</th>\n",
       "      <th>SRC_TITLE_ID</th>\n",
       "      <th>SRC_TITLE_NM</th>\n",
       "      <th>TITLE_TYPE</th>\n",
       "      <th>TITLE_YR</th>\n",
       "      <th>RELEASE_DT</th>\n",
       "      <th>RUN_TIME</th>\n",
       "      <th>PLOT_OUTLINE</th>\n",
       "      <th>PLOT_MEDIUM</th>\n",
       "      <th>PLOT_SUMMARY</th>\n",
       "      <th>RATING_AVG</th>\n",
       "      <th>NO_OF_VOTES</th>\n",
       "      <th>BUDGET_AMT</th>\n",
       "      <th>SRC_GENRE_PREDICTED</th>\n",
       "    </tr>\n",
       "  </thead>\n",
       "  <tbody>\n",
       "    <tr>\n",
       "      <th>0</th>\n",
       "      <td>68001</td>\n",
       "      <td>tt10691314</td>\n",
       "      <td>Are We Lost Forever</td>\n",
       "      <td>movie</td>\n",
       "      <td>2020</td>\n",
       "      <td>2020-01-12</td>\n",
       "      <td>104.0</td>\n",
       "      <td>One morning it is over. For Hampus it is a rel...</td>\n",
       "      <td>Painful breakups and loving meetings in an int...</td>\n",
       "      <td>One morning it is over. For Hampus it is a rel...</td>\n",
       "      <td>5.5</td>\n",
       "      <td>666</td>\n",
       "      <td>NaN</td>\n",
       "      <td>Drama</td>\n",
       "    </tr>\n",
       "    <tr>\n",
       "      <th>1</th>\n",
       "      <td>68002</td>\n",
       "      <td>tt13871408</td>\n",
       "      <td>Sweet Mahogany 2: Pure Indulgence</td>\n",
       "      <td>movie</td>\n",
       "      <td>2021</td>\n",
       "      <td>2021-02-23</td>\n",
       "      <td>86.0</td>\n",
       "      <td>NaN</td>\n",
       "      <td>Mahogany Andrews appears to be in the fight fo...</td>\n",
       "      <td>Mahogany Andrews appears to be in the fight fo...</td>\n",
       "      <td>5.9</td>\n",
       "      <td>17</td>\n",
       "      <td>1000.0</td>\n",
       "      <td>Drama</td>\n",
       "    </tr>\n",
       "    <tr>\n",
       "      <th>2</th>\n",
       "      <td>68003</td>\n",
       "      <td>tt1234430</td>\n",
       "      <td>Between Something &amp; Nothing</td>\n",
       "      <td>movie</td>\n",
       "      <td>2008</td>\n",
       "      <td>2008-05-21</td>\n",
       "      <td>105.0</td>\n",
       "      <td>Joe,a freshman art school student, befriends J...</td>\n",
       "      <td>With the impressive \"\"Between Something &amp; Noth...</td>\n",
       "      <td>Joe,a freshman art school student, befriends J...</td>\n",
       "      <td>4.9</td>\n",
       "      <td>356</td>\n",
       "      <td>10000.0</td>\n",
       "      <td>Drama</td>\n",
       "    </tr>\n",
       "  </tbody>\n",
       "</table>\n",
       "</div>"
      ],
      "text/plain": [
       "      ID SRC_TITLE_ID                       SRC_TITLE_NM TITLE_TYPE  TITLE_YR  \\\n",
       "0  68001   tt10691314                Are We Lost Forever      movie      2020   \n",
       "1  68002   tt13871408  Sweet Mahogany 2: Pure Indulgence      movie      2021   \n",
       "2  68003    tt1234430        Between Something & Nothing      movie      2008   \n",
       "\n",
       "  RELEASE_DT  RUN_TIME                                       PLOT_OUTLINE  \\\n",
       "0 2020-01-12     104.0  One morning it is over. For Hampus it is a rel...   \n",
       "1 2021-02-23      86.0                                                NaN   \n",
       "2 2008-05-21     105.0  Joe,a freshman art school student, befriends J...   \n",
       "\n",
       "                                         PLOT_MEDIUM  \\\n",
       "0  Painful breakups and loving meetings in an int...   \n",
       "1  Mahogany Andrews appears to be in the fight fo...   \n",
       "2  With the impressive \"\"Between Something & Noth...   \n",
       "\n",
       "                                        PLOT_SUMMARY  RATING_AVG  NO_OF_VOTES  \\\n",
       "0  One morning it is over. For Hampus it is a rel...         5.5          666   \n",
       "1  Mahogany Andrews appears to be in the fight fo...         5.9           17   \n",
       "2  Joe,a freshman art school student, befriends J...         4.9          356   \n",
       "\n",
       "   BUDGET_AMT SRC_GENRE_PREDICTED  \n",
       "0         NaN               Drama  \n",
       "1      1000.0               Drama  \n",
       "2     10000.0               Drama  "
      ]
     },
     "execution_count": 138,
     "metadata": {},
     "output_type": "execute_result"
    }
   ],
   "source": [
    "tests.head(3)"
   ]
  }
 ],
 "metadata": {
  "kernelspec": {
   "display_name": "Python 3",
   "language": "python",
   "name": "python3"
  },
  "language_info": {
   "codemirror_mode": {
    "name": "ipython",
    "version": 3
   },
   "file_extension": ".py",
   "mimetype": "text/x-python",
   "name": "python",
   "nbconvert_exporter": "python",
   "pygments_lexer": "ipython3",
   "version": "3.12.2"
  }
 },
 "nbformat": 4,
 "nbformat_minor": 2
}
